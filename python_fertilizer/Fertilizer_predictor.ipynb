{
 "cells": [
  {
   "cell_type": "code",
   "execution_count": 1,
   "id": "4ef899aa",
   "metadata": {},
   "outputs": [
    {
     "name": "stdout",
     "output_type": "stream",
     "text": [
      "   Nitrogen  Potassium  Phosphorous                Fertilizer Name\n",
      "0        37          0            0                           Urea\n",
      "1        12          0           36                            DAP\n",
      "2         7          9           30  Fourteen-Thirty Five-Fourteen\n",
      "3        22          0           20      Twenty Eight-Twenty Eight\n",
      "4        35          0            0                           Urea\n"
     ]
    }
   ],
   "source": [
    "import pandas as pd\n",
    "\n",
    "# Load the dataset\n",
    "data = pd.read_csv('Fertilizer.csv')\n",
    "\n",
    "# View the first few rows\n",
    "print(data.head())"
   ]
  },
  {
   "cell_type": "code",
   "execution_count": 2,
   "id": "c99ddf53",
   "metadata": {},
   "outputs": [
    {
     "name": "stdout",
     "output_type": "stream",
     "text": [
      "Index(['Nitrogen', 'Potassium', 'Phosphorous', 'Fertilizer Name'], dtype='object')\n"
     ]
    }
   ],
   "source": [
    "print(data.columns)"
   ]
  },
  {
   "cell_type": "code",
   "execution_count": 3,
   "id": "b4a51b14",
   "metadata": {},
   "outputs": [
    {
     "name": "stdout",
     "output_type": "stream",
     "text": [
      "   Nitrogen  Potassium  Phosphorous                Fertilizer Name\n",
      "0        37          0            0                           Urea\n",
      "1        12          0           36                            DAP\n",
      "2         7          9           30  Fourteen-Thirty Five-Fourteen\n",
      "3        22          0           20      Twenty Eight-Twenty Eight\n",
      "4        35          0            0                           Urea\n"
     ]
    }
   ],
   "source": [
    "print(data.head())"
   ]
  },
  {
   "cell_type": "code",
   "execution_count": 4,
   "id": "2171a360",
   "metadata": {},
   "outputs": [],
   "source": [
    "features = data[['Nitrogen', 'Phosphorous', 'Potassium']]\n",
    "labels = data['Fertilizer Name']"
   ]
  },
  {
   "cell_type": "code",
   "execution_count": 5,
   "id": "a87ff508",
   "metadata": {},
   "outputs": [],
   "source": [
    "# Selecting the important columns: Nitrogen, Phosphorous, Potassium, and Fertilizer Name\n",
    "features = data[['Nitrogen', 'Phosphorous', 'Potassium']]\n",
    "labels = data['Fertilizer Name']"
   ]
  },
  {
   "cell_type": "code",
   "execution_count": 6,
   "id": "ad768d34",
   "metadata": {},
   "outputs": [
    {
     "name": "stdout",
     "output_type": "stream",
     "text": [
      "Missing columns: ['nitrogen', 'phosphorus', 'potassium']\n"
     ]
    }
   ],
   "source": [
    "required_columns = ['nitrogen', 'phosphorus', 'potassium']\n",
    "missing_columns = [col for col in required_columns if col not in data.columns]\n",
    "if missing_columns:\n",
    "    print(f\"Missing columns: {missing_columns}\")\n",
    "else:\n",
    "    features = data[required_columns]"
   ]
  },
  {
   "cell_type": "code",
   "execution_count": 7,
   "id": "10fd57f8",
   "metadata": {},
   "outputs": [],
   "source": [
    "from sklearn.model_selection import train_test_split\n",
    "\n",
    "X_train, X_test, y_train, y_test = train_test_split(features, labels, test_size=0.2, random_state=42)"
   ]
  },
  {
   "cell_type": "code",
   "execution_count": 8,
   "id": "3a561d3f",
   "metadata": {},
   "outputs": [
    {
     "name": "stdout",
     "output_type": "stream",
     "text": [
      "Model Accuracy: 1.0\n"
     ]
    }
   ],
   "source": [
    "from sklearn.tree import DecisionTreeClassifier\n",
    "\n",
    "# Create the Decision Tree model\n",
    "model = DecisionTreeClassifier()\n",
    "\n",
    "# Train the model\n",
    "model.fit(X_train, y_train)\n",
    "\n",
    "# Test the model\n",
    "accuracy = model.score(X_test, y_test)\n",
    "print(f'Model Accuracy: {accuracy}')"
   ]
  },
  {
   "cell_type": "code",
   "execution_count": 9,
   "id": "c370874a",
   "metadata": {},
   "outputs": [
    {
     "name": "stdout",
     "output_type": "stream",
     "text": [
      "Enter Nitrogen (N) value: 25\n",
      "Enter Phosphorus (P) value: 23\n",
      "Enter Potassium (K) value: 23\n",
      "The required fertilizer is: Twenty Eight-Twenty Eight\n"
     ]
    }
   ],
   "source": [
    "def predict_fertilizer(nitrogen, phosphorus, potassium):\n",
    "    # Create a DataFrame for the input values with correct column names\n",
    "    input_data = pd.DataFrame({\n",
    "        'Nitrogen': [nitrogen],\n",
    "        'Phosphorous': [phosphorus],\n",
    "        'Potassium': [potassium]\n",
    "    })\n",
    "    \n",
    "    # Make a prediction using the trained model\n",
    "    predicted_fertilizer = model.predict(input_data)\n",
    "    \n",
    "    # Print the result\n",
    "    print(f'The required fertilizer is: {predicted_fertilizer[0]}')\n",
    "\n",
    "# Take N, P, K values as input from the user\n",
    "nitrogen = float(input(\"Enter Nitrogen (N) value: \"))\n",
    "phosphorus = float(input(\"Enter Phosphorus (P) value: \"))\n",
    "potassium = float(input(\"Enter Potassium (K) value: \"))\n",
    "\n",
    "# Call the function with user input\n",
    "predict_fertilizer(nitrogen, phosphorus, potassium)\n"
   ]
  },
  {
   "cell_type": "code",
   "execution_count": 10,
   "id": "9a039301",
   "metadata": {},
   "outputs": [
    {
     "data": {
      "text/plain": [
       "['fertilizer_model.pkl']"
      ]
     },
     "execution_count": 10,
     "metadata": {},
     "output_type": "execute_result"
    }
   ],
   "source": [
    "import joblib\n",
    "\n",
    "# Assuming 'model' is your trained model\n",
    "joblib.dump(model, 'fertilizer_model.pkl')\n"
   ]
  },
  {
   "cell_type": "code",
   "execution_count": null,
   "id": "33af7d79",
   "metadata": {},
   "outputs": [],
   "source": []
  }
 ],
 "metadata": {
  "kernelspec": {
   "display_name": "Python 3 (ipykernel)",
   "language": "python",
   "name": "python3"
  },
  "language_info": {
   "codemirror_mode": {
    "name": "ipython",
    "version": 3
   },
   "file_extension": ".py",
   "mimetype": "text/x-python",
   "name": "python",
   "nbconvert_exporter": "python",
   "pygments_lexer": "ipython3",
   "version": "3.10.9"
  }
 },
 "nbformat": 4,
 "nbformat_minor": 5
}
